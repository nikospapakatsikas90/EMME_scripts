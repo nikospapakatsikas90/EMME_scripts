{
 "cells": [
  {
   "cell_type": "markdown",
   "metadata": {
    "show_input": true
   },
   "source": [
    "# This notebook is used for various network modifications such as:\n",
    "\n",
    "* Adding centroids"
   ]
  },
  {
   "cell_type": "markdown",
   "metadata": {},
   "source": [
    "## Starting up\n",
    "\n",
    "Here the database is chosen, and scenarios/networks are being chosen"
   ]
  },
  {
   "cell_type": "code",
   "execution_count": 15,
   "metadata": {},
   "outputs": [],
   "source": [
    "from pandas import *\n",
    "import inro.emme.desktop.app as _app\n",
    "my_app = _app.connect() #connecting to currently open EMME instance\n",
    "my_modeller = inro.modeller.Modeller() #automatically connected to the current EMME instance\n",
    "data_explorer = my_app.data_explorer()\n",
    "database = data_explorer.active_database()\n",
    "print database.title()\n",
    "\n",
    "for scenario in database.scenarios():\n",
    "    print scenario.title()"
   ]
  },
  {
   "cell_type": "markdown",
   "metadata": {},
   "source": [
    "## Choose the scenario that the modifications will occur on"
   ]
  },
  {
   "cell_type": "code",
   "execution_count": 16,
   "metadata": {},
   "outputs": [],
   "source": [
    "main_scenario = database.scenario_by_number(3001).core_scenario"
   ]
  },
  {
   "cell_type": "markdown",
   "metadata": {},
   "source": [
    "The above scenario is copied to a backup (9999) before any modifications."
   ]
  },
  {
   "cell_type": "code",
   "execution_count": 18,
   "metadata": {},
   "outputs": [],
   "source": [
    "copy_scenario = my_modeller.tool(\"inro.emme.data.scenario.copy_scenario\")\n",
    "\n",
    "backup_scenario = copy_scenario(from_scenario=main_scenario,\n",
    "                      scenario_id=9999,\n",
    "                      scenario_title=\"Backup of scenario\" + main_scenario.id,\n",
    "                      copy_strategies=True,\n",
    "                      copy_linkshapes=True,\n",
    "                      overwrite=True)\n",
    "\n",
    "modif_network = main_scenario.get_network()"
   ]
  },
  {
   "cell_type": "markdown",
   "metadata": {},
   "source": [
    "## Point to the input excel file\n",
    "\n",
    "The input file should be a .csv (comma-separated) with 3 columns in the folder *Scripts*, as follows (column names in first row):\n",
    "* *Zone_ID*: The id number of the centroid\n",
    "* *x_coord*: The x coordinate of the centroid in the EMME network coordinate reference system\n",
    "* *y_coord*: The y coordinate of the centroid in the EMME network coordinate reference system"
   ]
  },
  {
   "cell_type": "code",
   "execution_count": 28,
   "metadata": {},
   "outputs": [],
   "source": [
    "input_data = read_csv(\"test_nodes_add.csv\")"
   ]
  },
  {
   "cell_type": "code",
   "execution_count": 33,
   "metadata": {},
   "outputs": [],
   "source": [
    "zone_ids = input_data[\"Zone_ID\"].tolist()\n",
    "x_coords = input_data[\"x_coord\"].tolist()\n",
    "y_coords = input_data[\"y_coord\"].tolist()"
   ]
  },
  {
   "cell_type": "code",
   "execution_count": null,
   "metadata": {},
   "outputs": [],
   "source": [
    "for zone_id, x_coord, y_coord in zip(zone_ids, x_coords, y_coords):\n",
    "    modif_network.create_node(str(zone_id), is_centroid = True)\n",
    "    modif_network.node(str(zone_id)).x = x_coord\n",
    "    modif_network.node(str(zone_id)).y = y_coord\n",
    "    print \"Node \" + str(zone_id) + \" created succesfully at \" + str(x_coord) + \", \" + str(y_coord) + \".\"\n",
    "main_scenario.publish_network(modif_network)"
   ]
  },
  {
   "cell_type": "markdown",
   "metadata": {},
   "source": [
    "## Delete nodes\n",
    "\n",
    "Here you can define a list of node numbers, which will be deleted. If these nodes have any dependent links, an error is raised."
   ]
  },
  {
   "cell_type": "code",
   "execution_count": 55,
   "metadata": {},
   "outputs": [],
   "source": [
    "delete_nodes = [2000, 2001, 2002]"
   ]
  },
  {
   "cell_type": "code",
   "execution_count": 56,
   "metadata": {},
   "outputs": [],
   "source": [
    "modif_network = main_scenario.get_network()\n",
    "for node_id in delete_nodes:\n",
    "    modif_network.delete_node(str(node_id), cascade = False) #cascade = True will delete node and all depended elements if they exist\n",
    "main_scenario.publish_network(modif_network)"
   ]
  },
  {
   "cell_type": "code",
   "execution_count": null,
   "metadata": {},
   "outputs": [],
   "source": []
  }
 ],
 "metadata": {
  "kernelspec": {
   "display_name": "Python 2",
   "language": "python",
   "name": "python2"
  },
  "language_info": {
   "codemirror_mode": {
    "name": "ipython",
    "version": 2
   },
   "file_extension": ".py",
   "mimetype": "text/x-python",
   "name": "python",
   "nbconvert_exporter": "python",
   "pygments_lexer": "ipython2",
   "version": "2.7.14"
  },
  "modeller": {
   "desktop_app_port": "4242"
  }
 },
 "nbformat": 4,
 "nbformat_minor": 2
}
